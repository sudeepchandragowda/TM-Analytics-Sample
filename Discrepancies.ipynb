{
 "cells": [
  {
   "cell_type": "code",
   "execution_count": 19,
   "id": "8da513a2-b22d-4d44-987e-df675228f922",
   "metadata": {},
   "outputs": [
    {
     "name": "stdout",
     "output_type": "stream",
     "text": [
      "  Case ID                  Alert Type  Risk Score        Status  \\\n",
      "0    C001          Large Transactions          85          Open   \n",
      "1    C002     Rapid Movement of Funds          92  Under Review   \n",
      "2    C003  Pattern in Funds Transfers          78        Closed   \n",
      "3    C004         Round Dollar Values          81          Open   \n",
      "4    C005          Large Transactions          88  Under Review   \n",
      "\n",
      "  Case Created Date  \n",
      "0        2025-02-01  \n",
      "1        2025-02-03  \n",
      "2        2025-02-05  \n",
      "3        2025-02-07  \n",
      "4        2025-02-10  \n",
      "  Transaction ID Case ID    Amount Transaction Date Account Number\n",
      "0          T4487    C001  43790.41        2025-02-1       ACC56692\n",
      "1          T9719    C001  39217.96        2025-02-9       ACC95963\n",
      "2          T4197    C001  33125.56       2025-02-15       ACC79613\n",
      "3          T5536    C001   5155.13        2025-02-5       ACC15802\n",
      "4          T7884    C001  27363.43       2025-02-10       ACC88539\n"
     ]
    }
   ],
   "source": [
    "import pandas as pd\n",
    "import random\n",
    "\n",
    "# Defining 5 fraud/AML cases\n",
    "case_alerts_data = [\n",
    "    {\"Case ID\": \"C001\", \"Alert Type\": \"Large Transactions\", \"Risk Score\": 85, \"Status\": \"Open\", \"Case Created Date\": \"2025-02-01\"},\n",
    "    {\"Case ID\": \"C002\", \"Alert Type\": \"Rapid Movement of Funds\", \"Risk Score\": 92, \"Status\": \"Under Review\", \"Case Created Date\": \"2025-02-03\"},\n",
    "    {\"Case ID\": \"C003\", \"Alert Type\": \"Pattern in Funds Transfers\", \"Risk Score\": 78, \"Status\": \"Closed\", \"Case Created Date\": \"2025-02-05\"},\n",
    "    {\"Case ID\": \"C004\", \"Alert Type\": \"Round Dollar Values\", \"Risk Score\": 81, \"Status\": \"Open\", \"Case Created Date\": \"2025-02-07\"},\n",
    "    {\"Case ID\": \"C005\", \"Alert Type\": \"Large Transactions\", \"Risk Score\": 88, \"Status\": \"Under Review\", \"Case Created Date\": \"2025-02-10\"},\n",
    "]\n",
    "\n",
    "# Converting to DataFrame\n",
    "case_alerts_df = pd.DataFrame(case_alerts_data)\n",
    "\n",
    "# Generating transactions dataset\n",
    "transactions_data = []\n",
    "for case in case_alerts_data:\n",
    "    num_transactions = random.randint(1, 20)  # 1-20 transactions per case\n",
    "    case_id = case[\"Case ID\"]\n",
    "    for i in range(num_transactions):\n",
    "        transactions_data.append({\n",
    "            \"Transaction ID\": f\"T{random.randint(1000, 9999)}\",\n",
    "            \"Case ID\": case_id,\n",
    "            \"Amount\": round(random.uniform(1000, 50000), 2),  # Random transaction amount\n",
    "            \"Transaction Date\": f\"2025-02-{random.randint(1, 15)}\",\n",
    "            \"Account Number\": f\"ACC{random.randint(10000, 99999)}\"\n",
    "        })\n",
    "\n",
    "# Converting to DataFrame\n",
    "transactions_df = pd.DataFrame(transactions_data)\n",
    "\n",
    "# Displayin the first few rows\n",
    "print(case_alerts_df)\n",
    "print(transactions_df.head())"
   ]
  },
  {
   "cell_type": "code",
   "execution_count": 21,
   "id": "0959059e-65db-4ea6-9847-82d4564d6a3d",
   "metadata": {},
   "outputs": [],
   "source": [
    "# Save the case_alerts DataFrame to a CSV file\n",
    "case_alerts_df.to_csv('case_alerts.csv', index=False)\n",
    "\n",
    "# Save the transactions DataFrame to a CSV file\n",
    "transactions_df.to_csv('transactions.csv', index=False)"
   ]
  },
  {
   "cell_type": "code",
   "execution_count": 37,
   "id": "754ca9b3-30b2-482f-9bd5-0cad14a62317",
   "metadata": {},
   "outputs": [
    {
     "name": "stdout",
     "output_type": "stream",
     "text": [
      "Case ID              object\n",
      "Alert Type           object\n",
      "Risk Score            int64\n",
      "Status               object\n",
      "Case Created Date    object\n",
      "dtype: object\n",
      "Transaction ID       object\n",
      "Case ID              object\n",
      "Amount              float64\n",
      "Transaction Date     object\n",
      "Account Number       object\n",
      "dtype: object\n"
     ]
    }
   ],
   "source": [
    "print(case_alerts_df.dtypes)\n",
    "print(transactions_df.dtypes)"
   ]
  },
  {
   "cell_type": "code",
   "execution_count": 39,
   "id": "5e17a827-4cb2-4e4e-ac5b-ed295148fc63",
   "metadata": {},
   "outputs": [
    {
     "name": "stdout",
     "output_type": "stream",
     "text": [
      "Case ID              0\n",
      "Alert Type           0\n",
      "Risk Score           0\n",
      "Status               0\n",
      "Case Created Date    0\n",
      "dtype: int64\n",
      "Transaction ID      0\n",
      "Case ID             0\n",
      "Amount              0\n",
      "Transaction Date    0\n",
      "Account Number      0\n",
      "dtype: int64\n"
     ]
    }
   ],
   "source": [
    "print(case_alerts_df.isnull().sum())\n",
    "print(transactions_df.isnull().sum())"
   ]
  },
  {
   "cell_type": "code",
   "execution_count": 41,
   "id": "7d4fa704-9f09-43ae-a6dd-85d949abe12f",
   "metadata": {},
   "outputs": [
    {
     "name": "stdout",
     "output_type": "stream",
     "text": [
      "Duplicate Transaction IDs: 0\n",
      "Missing Case IDs in transactions: 0\n"
     ]
    }
   ],
   "source": [
    "print(\"Duplicate Transaction IDs:\", transactions_df[\"Transaction ID\"].duplicated().sum())\n",
    "print(\"Missing Case IDs in transactions:\", transactions_df[~transactions_df[\"Case ID\"].isin(case_alerts_df[\"Case ID\"])].shape[0])"
   ]
  },
  {
   "cell_type": "code",
   "execution_count": 43,
   "id": "9f9a56b6-b3c6-4527-a6c3-b735cbbf7d30",
   "metadata": {},
   "outputs": [],
   "source": [
    "total_amounts = transactions_df.groupby(\"Case ID\")[\"Amount\"].sum().reset_index()"
   ]
  },
  {
   "cell_type": "code",
   "execution_count": 45,
   "id": "16b27baa-072b-4e8f-b2c1-22935d4233fc",
   "metadata": {},
   "outputs": [],
   "source": [
    "avg_risk_score = case_alerts_df.groupby(\"Alert Type\")[\"Risk Score\"].mean().reset_index()"
   ]
  },
  {
   "cell_type": "code",
   "execution_count": 47,
   "id": "8e799c41-a7cb-4272-b32c-a94d574fd15c",
   "metadata": {},
   "outputs": [
    {
     "name": "stdout",
     "output_type": "stream",
     "text": [
      "  Case ID     Amount\n",
      "0    C001  192637.57\n",
      "1    C002  505814.58\n",
      "2    C003   77338.07\n",
      "3    C004  249669.00\n",
      "4    C005  156936.25\n",
      "                   Alert Type  Risk Score\n",
      "0          Large Transactions        86.5\n",
      "1  Pattern in Funds Transfers        78.0\n",
      "2     Rapid Movement of Funds        92.0\n",
      "3         Round Dollar Values        81.0\n"
     ]
    }
   ],
   "source": [
    "print(total_amounts)\n",
    "print(avg_risk_score)"
   ]
  },
  {
   "cell_type": "code",
   "execution_count": null,
   "id": "b576321b-534e-4390-ad19-f6e6cea84172",
   "metadata": {},
   "outputs": [],
   "source": []
  }
 ],
 "metadata": {
  "kernelspec": {
   "display_name": "Python [conda env:base] *",
   "language": "python",
   "name": "conda-base-py"
  },
  "language_info": {
   "codemirror_mode": {
    "name": "ipython",
    "version": 3
   },
   "file_extension": ".py",
   "mimetype": "text/x-python",
   "name": "python",
   "nbconvert_exporter": "python",
   "pygments_lexer": "ipython3",
   "version": "3.12.7"
  }
 },
 "nbformat": 4,
 "nbformat_minor": 5
}
